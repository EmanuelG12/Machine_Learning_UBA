{
 "cells": [
  {
   "cell_type": "code",
   "execution_count": 7,
   "metadata": {},
   "outputs": [],
   "source": [
    "from keras.datasets import mnist,fashion_mnist\n",
    "(X_train_raw, y_train), (X_test_raw, y_test) = fashion_mnist.load_data() #De esta forma ya vamos a tener separado el dataset en train y test respectivamente."
   ]
  },
  {
   "cell_type": "code",
   "execution_count": 8,
   "metadata": {},
   "outputs": [],
   "source": [
    "import matplotlib.pyplot as plt\n",
    "import numpy as np\n",
    "import pandas as pd"
   ]
  },
  {
   "cell_type": "code",
   "execution_count": 9,
   "metadata": {},
   "outputs": [],
   "source": [
    "categories = ['T-shirt/top', 'Trouser', 'Pullover', 'Dress', 'Coat', 'Sandal', 'Shirt', 'Sneaker', 'Bag', 'Ankle boot']"
   ]
  },
  {
   "cell_type": "code",
   "execution_count": 10,
   "metadata": {},
   "outputs": [
    {
     "name": "stdout",
     "output_type": "stream",
     "text": [
      "X_train shape: (60000, 28, 28)\n",
      "y_train shape: (60000,)\n",
      "X_test shape: (10000, 28, 28)\n",
      "y_test shape: (10000,)\n",
      "X_train_raw dtype: uint8\n",
      "y_train_raw dtype: uint8\n"
     ]
    }
   ],
   "source": [
    "print(\"X_train shape:\", X_train_raw.shape)\n",
    "print('y_train shape:', y_train.shape)\n",
    "print(\"X_test shape:\", X_test_raw.shape)\n",
    "print('y_test shape:', y_test.shape)\n",
    "print('X_train_raw dtype:', X_train_raw.dtype)\n",
    "print('y_train_raw dtype:', y_train.dtype)"
   ]
  },
  {
   "cell_type": "code",
   "execution_count": 11,
   "metadata": {},
   "outputs": [],
   "source": [
    "y_train = y_train.astype('float') #cambiamos uint 8 a float\n",
    "X_train_raw = X_train_raw.astype('float')"
   ]
  },
  {
   "cell_type": "code",
   "execution_count": 12,
   "metadata": {},
   "outputs": [
    {
     "ename": "TypeError",
     "evalue": "list indices must be integers or slices, not numpy.float64",
     "output_type": "error",
     "traceback": [
      "\u001b[1;31m---------------------------------------------------------------------------\u001b[0m",
      "\u001b[1;31mTypeError\u001b[0m                                 Traceback (most recent call last)",
      "Cell \u001b[1;32mIn [12], line 6\u001b[0m\n\u001b[0;32m      4\u001b[0m plt\u001b[39m.\u001b[39msubplot(\u001b[39m5\u001b[39m,\u001b[39m5\u001b[39m,i\u001b[39m+\u001b[39m\u001b[39m1\u001b[39m)\n\u001b[0;32m      5\u001b[0m plt\u001b[39m.\u001b[39mimshow(X_train_raw[j], interpolation\u001b[39m=\u001b[39m\u001b[39m'\u001b[39m\u001b[39mnone\u001b[39m\u001b[39m'\u001b[39m, cmap\u001b[39m=\u001b[39m\u001b[39m'\u001b[39m\u001b[39mgray\u001b[39m\u001b[39m'\u001b[39m)\n\u001b[1;32m----> 6\u001b[0m plt\u001b[39m.\u001b[39mtitle(\u001b[39m\"\u001b[39m\u001b[39mclase: \u001b[39m\u001b[39m{}\u001b[39;00m\u001b[39m\"\u001b[39m\u001b[39m.\u001b[39mformat(categories[y_train[j]]), fontsize\u001b[39m=\u001b[39m \u001b[39m10\u001b[39m)\n\u001b[0;32m      7\u001b[0m plt\u001b[39m.\u001b[39mxticks([])\n\u001b[0;32m      8\u001b[0m plt\u001b[39m.\u001b[39myticks([])\n",
      "\u001b[1;31mTypeError\u001b[0m: list indices must be integers or slices, not numpy.float64"
     ]
    },
    {
     "data": {
      "image/png": "[encoded data removed]",
      "text/plain": [
       "<Figure size 800x800 with 1 Axes>"
      ]
     },
     "metadata": {},
     "output_type": "display_data"
    }
   ],
   "source": [
    "fig = plt.figure(figsize=(8,8))\n",
    "for i in range(25):\n",
    "    j = np.random.randint(0, len(X_train_raw))\n",
    "    plt.subplot(5,5,i+1)\n",
    "    plt.imshow(X_train_raw[j], interpolation='none', cmap='gray')\n",
    "    plt.title(\"clase: {}\".format(categories[y_train[j]]), fontsize= 10)\n",
    "    plt.xticks([])\n",
    "    plt.yticks([])\n",
    "plt.show()"
   ]
  },
  {
   "cell_type": "code",
   "execution_count": 13,
   "metadata": {},
   "outputs": [
    {
     "data": {
      "text/plain": [
       "(28, 28)"
      ]
     },
     "execution_count": 13,
     "metadata": {},
     "output_type": "execute_result"
    }
   ],
   "source": [
    "X_train_raw[0].shape"
   ]
  },
  {
   "cell_type": "code",
   "execution_count": 14,
   "metadata": {},
   "outputs": [
    {
     "name": "stdout",
     "output_type": "stream",
     "text": [
      "Los valores de cada elemento de X_train_raw van entre 0.0 y 255.0\n"
     ]
    }
   ],
   "source": [
    "print(\"Los valores de cada elemento de X_train_raw van entre\", np.min(X_train_raw), \"y\", np.max(X_train_raw))"
   ]
  },
  {
   "cell_type": "code",
   "execution_count": 15,
   "metadata": {},
   "outputs": [],
   "source": [
    "X_train = X_train_raw.reshape(60000, -1)\n",
    "X_test = X_test_raw.reshape(10000, -1)"
   ]
  },
  {
   "cell_type": "code",
   "execution_count": 16,
   "metadata": {},
   "outputs": [],
   "source": [
    "X_train = X_train.astype('float32')\n",
    "X_test = X_test.astype('float32')"
   ]
  },
  {
   "cell_type": "code",
   "execution_count": 17,
   "metadata": {},
   "outputs": [],
   "source": [
    "X_train = X_train/255.0\n",
    "X_test = X_test/255.0"
   ]
  },
  {
   "cell_type": "code",
   "execution_count": 18,
   "metadata": {},
   "outputs": [
    {
     "name": "stdout",
     "output_type": "stream",
     "text": [
      "Matriz de entrenamiento shape (60000, 784)\n",
      "Matriz de testeo shape (10000, 784)\n"
     ]
    }
   ],
   "source": [
    "print('Matriz de entrenamiento shape', X_train.shape)\n",
    "print('Matriz de testeo shape', X_test.shape)"
   ]
  },
  {
   "cell_type": "code",
   "execution_count": 20,
   "metadata": {},
   "outputs": [
    {
     "name": "stdout",
     "output_type": "stream",
     "text": [
      "X_train\n",
      "Values: [0. 1. 2. 3. 4. 5. 6. 7. 8. 9.]\n",
      "Counts: [6000 6000 6000 6000 6000 6000 6000 6000 6000 6000]\n",
      "y_test\n",
      "Values: [0. 1. 2. 3. 4. 5. 6. 7. 8. 9.]\n",
      "Counts: [1000 1000 1000 1000 1000 1000 1000 1000 1000 1000]\n"
     ]
    }
   ],
   "source": [
    "values, counts = np.unique(y_train, return_counts=True)\n",
    "print(\"X_train\")\n",
    "print('Values:', values)\n",
    "print('Counts:', counts)\n",
    "print('y_test')\n",
    "value,counts = np.unique(y_test, return_counts=True)\n",
    "print('Values:', values)\n",
    "print('Counts:', counts)"
   ]
  },
  {
   "cell_type": "code",
   "execution_count": 21,
   "metadata": {},
   "outputs": [],
   "source": [
    "from sklearn.preprocessing import OneHotEncoder"
   ]
  },
  {
   "cell_type": "code",
   "execution_count": 22,
   "metadata": {},
   "outputs": [],
   "source": [
    "encoder = OneHotEncoder(sparse=False)"
   ]
  },
  {
   "cell_type": "code",
   "execution_count": 23,
   "metadata": {},
   "outputs": [
    {
     "data": {
      "text/html": [
       "<style>#sk-container-id-1 {color: black;background-color: white;}#sk-container-id-1 pre{padding: 0;}#sk-container-id-1 div.sk-toggleable {background-color: white;}#sk-container-id-1 label.sk-toggleable__label {cursor: pointer;display: block;width: 100%;margin-bottom: 0;padding: 0.3em;box-sizing: border-box;text-align: center;}#sk-container-id-1 label.sk-toggleable__label-arrow:before {content: \"▸\";float: left;margin-right: 0.25em;color: #696969;}#sk-container-id-1 label.sk-toggleable__label-arrow:hover:before {color: black;}#sk-container-id-1 div.sk-estimator:hover label.sk-toggleable__label-arrow:before {color: black;}#sk-container-id-1 div.sk-toggleable__content {max-height: 0;max-width: 0;overflow: hidden;text-align: left;background-color: #f0f8ff;}#sk-container-id-1 div.sk-toggleable__content pre {margin: 0.2em;color: black;border-radius: 0.25em;background-color: #f0f8ff;}#sk-container-id-1 input.sk-toggleable__control:checked~div.sk-toggleable__content {max-height: 200px;max-width: 100%;overflow: auto;}#sk-container-id-1 input.sk-toggleable__control:checked~label.sk-toggleable__label-arrow:before {content: \"▾\";}#sk-container-id-1 div.sk-estimator input.sk-toggleable__control:checked~label.sk-toggleable__label {background-color: #d4ebff;}#sk-container-id-1 div.sk-label input.sk-toggleable__control:checked~label.sk-toggleable__label {background-color: #d4ebff;}#sk-container-id-1 input.sk-hidden--visually {border: 0;clip: rect(1px 1px 1px 1px);clip: rect(1px, 1px, 1px, 1px);height: 1px;margin: -1px;overflow: hidden;padding: 0;position: absolute;width: 1px;}#sk-container-id-1 div.sk-estimator {font-family: monospace;background-color: #f0f8ff;border: 1px dotted black;border-radius: 0.25em;box-sizing: border-box;margin-bottom: 0.5em;}#sk-container-id-1 div.sk-estimator:hover {background-color: #d4ebff;}#sk-container-id-1 div.sk-parallel-item::after {content: \"\";width: 100%;border-bottom: 1px solid gray;flex-grow: 1;}#sk-container-id-1 div.sk-label:hover label.sk-toggleable__label {background-color: #d4ebff;}#sk-container-id-1 div.sk-serial::before {content: \"\";position: absolute;border-left: 1px solid gray;box-sizing: border-box;top: 0;bottom: 0;left: 50%;z-index: 0;}#sk-container-id-1 div.sk-serial {display: flex;flex-direction: column;align-items: center;background-color: white;padding-right: 0.2em;padding-left: 0.2em;position: relative;}#sk-container-id-1 div.sk-item {position: relative;z-index: 1;}#sk-container-id-1 div.sk-parallel {display: flex;align-items: stretch;justify-content: center;background-color: white;position: relative;}#sk-container-id-1 div.sk-item::before, #sk-container-id-1 div.sk-parallel-item::before {content: \"\";position: absolute;border-left: 1px solid gray;box-sizing: border-box;top: 0;bottom: 0;left: 50%;z-index: -1;}#sk-container-id-1 div.sk-parallel-item {display: flex;flex-direction: column;z-index: 1;position: relative;background-color: white;}#sk-container-id-1 div.sk-parallel-item:first-child::after {align-self: flex-end;width: 50%;}#sk-container-id-1 div.sk-parallel-item:last-child::after {align-self: flex-start;width: 50%;}#sk-container-id-1 div.sk-parallel-item:only-child::after {width: 0;}#sk-container-id-1 div.sk-dashed-wrapped {border: 1px dashed gray;margin: 0 0.4em 0.5em 0.4em;box-sizing: border-box;padding-bottom: 0.4em;background-color: white;}#sk-container-id-1 div.sk-label label {font-family: monospace;font-weight: bold;display: inline-block;line-height: 1.2em;}#sk-container-id-1 div.sk-label-container {text-align: center;}#sk-container-id-1 div.sk-container {/* jupyter's `normalize.less` sets `[hidden] { display: none; }` but bootstrap.min.css set `[hidden] { display: none !important; }` so we also need the `!important` here to be able to override the default hidden behavior on the sphinx rendered scikit-learn.org. See: https://github.com/scikit-learn/scikit-learn/issues/21755 */display: inline-block !important;position: relative;}#sk-container-id-1 div.sk-text-repr-fallback {display: none;}</style><div id=\"sk-container-id-1\" class=\"sk-top-container\"><div class=\"sk-text-repr-fallback\"><pre>OneHotEncoder(sparse=False)</pre><b>In a Jupyter environment, please rerun this cell to show the HTML representation or trust the notebook. <br />On GitHub, the HTML representation is unable to render, please try loading this page with nbviewer.org.</b></div><div class=\"sk-container\" hidden><div class=\"sk-item\"><div class=\"sk-estimator sk-toggleable\"><input class=\"sk-toggleable__control sk-hidden--visually\" id=\"sk-estimator-id-1\" type=\"checkbox\" checked><label for=\"sk-estimator-id-1\" class=\"sk-toggleable__label sk-toggleable__label-arrow\">OneHotEncoder</label><div class=\"sk-toggleable__content\"><pre>OneHotEncoder(sparse=False)</pre></div></div></div></div></div>"
      ],
      "text/plain": [
       "OneHotEncoder(sparse=False)"
      ]
     },
     "execution_count": 23,
     "metadata": {},
     "output_type": "execute_result"
    }
   ],
   "source": [
    "encoder.fit(y_train.reshape(-1,1))"
   ]
  },
  {
   "cell_type": "code",
   "execution_count": 24,
   "metadata": {},
   "outputs": [
    {
     "name": "stdout",
     "output_type": "stream",
     "text": [
      "Categoria encoder: [array([0., 1., 2., 3., 4., 5., 6., 7., 8., 9.])]\n"
     ]
    }
   ],
   "source": [
    "print(\"Categoria encoder:\", encoder.categories_)"
   ]
  },
  {
   "cell_type": "code",
   "execution_count": 25,
   "metadata": {},
   "outputs": [],
   "source": [
    "Y_train = encoder.transform(y_train.reshape(-1,1))"
   ]
  },
  {
   "cell_type": "code",
   "execution_count": 26,
   "metadata": {},
   "outputs": [
    {
     "name": "stdout",
     "output_type": "stream",
     "text": [
      "Como queda la matriz Y_train: \n",
      ": [[0. 0. 0. ... 0. 0. 1.]\n",
      " [1. 0. 0. ... 0. 0. 0.]\n",
      " [1. 0. 0. ... 0. 0. 0.]\n",
      " ...\n",
      " [0. 0. 0. ... 0. 0. 0.]\n",
      " [1. 0. 0. ... 0. 0. 0.]\n",
      " [0. 0. 0. ... 0. 0. 0.]]\n"
     ]
    }
   ],
   "source": [
    "print(\"Como queda la matriz Y_train: \\n:\", Y_train)"
   ]
  },
  {
   "cell_type": "code",
   "execution_count": 27,
   "metadata": {},
   "outputs": [
    {
     "name": "stdout",
     "output_type": "stream",
     "text": [
      "y_train shape [antes de one_hot encoding]:  (60000,)\n",
      "Y_train shape [Despues de one-hot encoding]:  (60000, 10)\n"
     ]
    }
   ],
   "source": [
    "print(\"y_train shape [antes de one_hot encoding]: \", y_train.shape)\n",
    "print(\"Y_train shape [Despues de one-hot encoding]: \", Y_train.shape)"
   ]
  },
  {
   "cell_type": "markdown",
   "metadata": {},
   "source": [
    "## Lo mismo para el test"
   ]
  },
  {
   "cell_type": "code",
   "execution_count": 28,
   "metadata": {},
   "outputs": [],
   "source": [
    "encoder = OneHotEncoder(sparse=False)\n",
    "encoder.fit(y_test.reshape(-1,1))\n",
    "Y_test = encoder.transform(y_test.reshape(-1,1))"
   ]
  },
  {
   "cell_type": "code",
   "execution_count": 29,
   "metadata": {},
   "outputs": [
    {
     "name": "stdout",
     "output_type": "stream",
     "text": [
      "y_test shape [antes de one_hot encoding]:  (10000,)\n",
      "Y_test shape [Despues de one-hot encoding]:  (10000, 10)\n"
     ]
    }
   ],
   "source": [
    "print(\"y_test shape [antes de one_hot encoding]: \", y_test.shape)\n",
    "print(\"Y_test shape [Despues de one-hot encoding]: \", Y_test.shape)"
   ]
  },
  {
   "cell_type": "markdown",
   "metadata": {},
   "source": [
    "## Creacion de Red neuronal Basica"
   ]
  },
  {
   "cell_type": "code",
   "execution_count": 30,
   "metadata": {},
   "outputs": [],
   "source": [
    "import numpy as np\n",
    "import matplotlib.pyplot as plt \n",
    "import sklearn.metrics as metrics\n",
    "\n",
    "#Importamos Keras\n",
    "from keras.datasets import mnist, fashion_mnist\n",
    "from keras.models import Sequential, load_model\n",
    "from keras.layers.core import Dense, Dropout, Activation\n",
    "from keras.utils import np_utils, plot_model\n",
    "from keras.regularizers import l1"
   ]
  },
  {
   "cell_type": "code",
   "execution_count": 31,
   "metadata": {},
   "outputs": [],
   "source": [
    "#Definimos el modelo secuencial(primero esta vacio)\n",
    "model_simple = Sequential()\n",
    "\n",
    "#agregamos una capa de 10 perceptrones con activación logistica(softmax)\n",
    "model_simple.add(Dense(10,activation='softmax'))\n",
    "#Dense() crea una capa de 10 nodos(perceptrones) que esta fully connected, es decir todas las entradas obtienen un peso para todos los nodos\n",
    "#por lo que la cantidaad de pesos en este caso seria 784x10(784 pesos, uno por cada entrada del vector input para cada uno de los perceptrones)"
   ]
  },
  {
   "cell_type": "code",
   "execution_count": 32,
   "metadata": {},
   "outputs": [],
   "source": [
    "model_simple.compile(loss='categorical_crossentropy', metrics=['categorical_accuracy'], optimizer='adam')"
   ]
  },
  {
   "cell_type": "code",
   "execution_count": 33,
   "metadata": {},
   "outputs": [
    {
     "name": "stdout",
     "output_type": "stream",
     "text": [
      "Epoch 1/10\n",
      "1875/1875 [==============================] - 8s 4ms/step - loss: 0.5999 - categorical_accuracy: 0.7963 - val_loss: 0.5116 - val_categorical_accuracy: 0.8214\n",
      "Epoch 2/10\n",
      "1875/1875 [==============================] - 6s 3ms/step - loss: 0.4610 - categorical_accuracy: 0.8426 - val_loss: 0.4770 - val_categorical_accuracy: 0.8353\n",
      "Epoch 3/10\n",
      "1875/1875 [==============================] - 6s 3ms/step - loss: 0.4362 - categorical_accuracy: 0.8491 - val_loss: 0.4633 - val_categorical_accuracy: 0.8372\n",
      "Epoch 4/10\n",
      "1875/1875 [==============================] - 6s 3ms/step - loss: 0.4219 - categorical_accuracy: 0.8548 - val_loss: 0.4611 - val_categorical_accuracy: 0.8409\n",
      "Epoch 5/10\n",
      "1875/1875 [==============================] - 6s 3ms/step - loss: 0.4133 - categorical_accuracy: 0.8575 - val_loss: 0.4787 - val_categorical_accuracy: 0.8321\n",
      "Epoch 6/10\n",
      "1875/1875 [==============================] - 6s 3ms/step - loss: 0.4072 - categorical_accuracy: 0.8593 - val_loss: 0.4465 - val_categorical_accuracy: 0.8429\n",
      "Epoch 7/10\n",
      "1875/1875 [==============================] - 6s 3ms/step - loss: 0.4023 - categorical_accuracy: 0.8600 - val_loss: 0.4452 - val_categorical_accuracy: 0.8460\n",
      "Epoch 8/10\n",
      "1875/1875 [==============================] - 6s 3ms/step - loss: 0.3982 - categorical_accuracy: 0.8623 - val_loss: 0.4586 - val_categorical_accuracy: 0.8390\n",
      "Epoch 9/10\n",
      "1875/1875 [==============================] - 7s 4ms/step - loss: 0.3940 - categorical_accuracy: 0.8626 - val_loss: 0.4550 - val_categorical_accuracy: 0.8408\n",
      "Epoch 10/10\n",
      "1875/1875 [==============================] - 7s 4ms/step - loss: 0.3915 - categorical_accuracy: 0.8640 - val_loss: 0.4459 - val_categorical_accuracy: 0.8447\n"
     ]
    }
   ],
   "source": [
    "history = model_simple.fit(X_train, Y_train,\n",
    "                batch_size=32, epochs=10,\n",
    "                verbose=1,\n",
    "                validation_data=(X_test, Y_test))"
   ]
  },
  {
   "cell_type": "code",
   "execution_count": 34,
   "metadata": {},
   "outputs": [
    {
     "name": "stdout",
     "output_type": "stream",
     "text": [
      "1/1 [==============================] - 0s 212ms/step\n",
      "Shape de la salida: (1, 10)\n",
      "Salida: [[6.3978302e-07 3.7793505e-08 1.6863267e-05 4.9498590e-06 8.2633596e-06\n",
      "  1.6132006e-01 2.6013560e-05 4.5266625e-02 8.7972451e-03 7.8455931e-01]]\n"
     ]
    }
   ],
   "source": [
    "salida = model_simple.predict(X_test[0:1]) #analogo al .predict.proba() que de sklearn\n",
    "\n",
    "print('Shape de la salida:', salida.shape)\n",
    "print('Salida:', salida)"
   ]
  },
  {
   "cell_type": "code",
   "execution_count": 35,
   "metadata": {},
   "outputs": [
    {
     "name": "stdout",
     "output_type": "stream",
     "text": [
      "Calse asignada por la red: 9\n",
      "Calse real: 9\n"
     ]
    }
   ],
   "source": [
    "etiqueta_prediccion = salida[0].argmax()\n",
    "etiqueta_real = y_test[0]\n",
    "\n",
    "print('Calse asignada por la red:', etiqueta_prediccion)\n",
    "print('Calse real:', etiqueta_real)"
   ]
  },
  {
   "cell_type": "code",
   "execution_count": 36,
   "metadata": {},
   "outputs": [
    {
     "name": "stdout",
     "output_type": "stream",
     "text": [
      "1875/1875 [==============================] - 5s 3ms/step\n",
      "313/313 [==============================] - 1s 3ms/step\n",
      "Accuracy en el train set: 0.8677333333333334\n",
      "Accuracy en el test set: 0.8447\n"
     ]
    }
   ],
   "source": [
    "#Usamos el modelo para predecir sobre todas als instancias en ambos sets\n",
    "y_train_pred = model_simple.predict(X_train)\n",
    "y_test_pred = model_simple.predict(X_test)\n",
    "\n",
    "#Tomamos como clase predicha aquella con mayor probabilidad\n",
    "train_acurracy = metrics.accuracy_score(y_train_pred.argmax(axis=1), y_train)\n",
    "#y_train_pred.argmax(axis=1) es un vector de longitud igual a la longitud de y_train_pred\n",
    "#pero en cada elemento tiene el número de clase con mayor probabilidad en vez de un vector con las 10 probabilidades\n",
    "test_accuracy = metrics.accuracy_score(y_test_pred.argmax(axis=1), y_test)\n",
    "\n",
    "print('Accuracy en el train set:', train_acurracy)\n",
    "print('Accuracy en el test set:', test_accuracy)"
   ]
  },
  {
   "cell_type": "markdown",
   "metadata": {},
   "source": [
    "#### Veamos como es la matriz de confusion para casos con mas de una clase"
   ]
  },
  {
   "cell_type": "code",
   "execution_count": 37,
   "metadata": {},
   "outputs": [
    {
     "name": "stdout",
     "output_type": "stream",
     "text": [
      "Matriz de Confusion\n",
      "[[783   4  14  60   7   0 118   0  14   0]\n",
      " [  3 965   2  21   5   0   2   0   2   0]\n",
      " [ 18   7 758  10 142   1  55   0   9   0]\n",
      " [ 15  17  17 870  35   0  41   0   5   0]\n",
      " [  0   1 116  36 789   0  50   0   8   0]\n",
      " [  0   0   0   1   0 946   0  30   4  19]\n",
      " [110   2 156  40 145   0 525   0  22   0]\n",
      " [  0   0   0   0   0  55   0 903   0  42]\n",
      " [  4   1  10  10   3   4  13   4 951   0]\n",
      " [  0   0   0   0   0  17   1  25   0 957]]\n"
     ]
    }
   ],
   "source": [
    "from sklearn.metrics import confusion_matrix\n",
    "\n",
    "print(\"Matriz de Confusion\")\n",
    "print(confusion_matrix(y_test, y_test_pred.argmax(axis=1)))"
   ]
  },
  {
   "cell_type": "code",
   "execution_count": 38,
   "metadata": {},
   "outputs": [
    {
     "name": "stdout",
     "output_type": "stream",
     "text": [
      "(784, 10)\n"
     ]
    }
   ],
   "source": [
    "weights = model_simple.get_weights()[0]\n",
    "print(weights.shape)"
   ]
  },
  {
   "cell_type": "code",
   "execution_count": 40,
   "metadata": {},
   "outputs": [
    {
     "name": "stdout",
     "output_type": "stream",
     "text": [
      "(784, 10)\n"
     ]
    }
   ],
   "source": [
    "#Que esta mirando la red? \n",
    "weights = model_simple.get_weights()[0]\n",
    "print(weights.shape)"
   ]
  },
  {
   "cell_type": "markdown",
   "metadata": {},
   "source": [
    "##### Cada una de las 10 neuronas(una por cada clase) tiene 784 pesos, uno por cada pixel de imagen(sin contar los bins). La lectura del vector numerico de pesos no sera muy informativa. pero veamosque pasa si lo llevamos a (28,28) y lo graficamos en una imagen"
   ]
  },
  {
   "cell_type": "code",
   "execution_count": 43,
   "metadata": {},
   "outputs": [
    {
     "data": {
      "image/png": "[encoded data removed]",
      "text/plain": [
       "<Figure size 1500x800 with 11 Axes>"
      ]
     },
     "metadata": {},
     "output_type": "display_data"
    }
   ],
   "source": [
    "plt.figure(figsize = (15,8)) #seteo tamaño de figura\n",
    "for i in range(10): # i va desde 0 a 9 (range(10)) es un vector que empieza de 0 y termina en 10-1 = 9 con steps de 1\n",
    "    plt.subplot(3,5,i+1) # hago subplots en 2 filas y 5 columnas\n",
    "    w0 = weights[:,i] # accedo a la matriz de pesos del perceptron i-esimo correspondiente a la clase i-esima\n",
    "    plt.title(categories[i]) #imprimo la categoria i-esima correspondiente al i-esimo perceptron\n",
    "    plt.imshow(w0.reshape(28,28)) #reshapeo el vector de pesos i-esimo(784,) a (28,28) para recuperar el formato de las imagenes\n",
    "    plt.axis('off')\n",
    "plt.tight_layout()\n",
    "cax = plt.axes([1, 0.35, 0.025, 0.6])\n",
    "plt.colorbar(cax=cax)\n",
    "plt.show()\n",
    "plt.show()"
   ]
  }
 ],
 "metadata": {
  "kernelspec": {
   "display_name": "Python 3.10.6 64-bit",
   "language": "python",
   "name": "python3"
  },
  "language_info": {
   "codemirror_mode": {
    "name": "ipython",
    "version": 3
   },
   "file_extension": ".py",
   "mimetype": "text/x-python",
   "name": "python",
   "nbconvert_exporter": "python",
   "pygments_lexer": "ipython3",
   "version": "3.10.6"
  },
  "orig_nbformat": 4,
  "vscode": {
   "interpreter": {
    "hash": "df95319d8ce4e1d89f5365ae10992bc1f65da593082b1d264e8f529830ec2f02"
   }
  }
 },
 "nbformat": 4,
 "nbformat_minor": 2
}
